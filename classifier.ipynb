{
 "cells": [
  {
   "cell_type": "code",
   "execution_count": 338,
   "metadata": {},
   "outputs": [],
   "source": [
    "import pandas as pd\n",
    "import tensorflow as tf\n",
    "import numpy as np\n",
    "import matplotlib.pyplot as plt\n",
    "from sklearn.preprocessing import normalize"
   ]
  },
  {
   "cell_type": "code",
   "execution_count": 339,
   "metadata": {},
   "outputs": [
    {
     "data": {
      "text/html": [
       "<div>\n",
       "<style scoped>\n",
       "    .dataframe tbody tr th:only-of-type {\n",
       "        vertical-align: middle;\n",
       "    }\n",
       "\n",
       "    .dataframe tbody tr th {\n",
       "        vertical-align: top;\n",
       "    }\n",
       "\n",
       "    .dataframe thead th {\n",
       "        text-align: right;\n",
       "    }\n",
       "</style>\n",
       "<table border=\"1\" class=\"dataframe\">\n",
       "  <thead>\n",
       "    <tr style=\"text-align: right;\">\n",
       "      <th></th>\n",
       "      <th>N</th>\n",
       "      <th>P</th>\n",
       "      <th>K</th>\n",
       "      <th>temperature</th>\n",
       "      <th>humidity</th>\n",
       "      <th>ph</th>\n",
       "      <th>rainfall</th>\n",
       "      <th>label</th>\n",
       "    </tr>\n",
       "  </thead>\n",
       "  <tbody>\n",
       "    <tr>\n",
       "      <th>0</th>\n",
       "      <td>90</td>\n",
       "      <td>42</td>\n",
       "      <td>43</td>\n",
       "      <td>20.879744</td>\n",
       "      <td>82.002744</td>\n",
       "      <td>6.502985</td>\n",
       "      <td>202.935536</td>\n",
       "      <td>rice</td>\n",
       "    </tr>\n",
       "    <tr>\n",
       "      <th>1</th>\n",
       "      <td>85</td>\n",
       "      <td>58</td>\n",
       "      <td>41</td>\n",
       "      <td>21.770462</td>\n",
       "      <td>80.319644</td>\n",
       "      <td>7.038096</td>\n",
       "      <td>226.655537</td>\n",
       "      <td>rice</td>\n",
       "    </tr>\n",
       "    <tr>\n",
       "      <th>2</th>\n",
       "      <td>60</td>\n",
       "      <td>55</td>\n",
       "      <td>44</td>\n",
       "      <td>23.004459</td>\n",
       "      <td>82.320763</td>\n",
       "      <td>7.840207</td>\n",
       "      <td>263.964248</td>\n",
       "      <td>rice</td>\n",
       "    </tr>\n",
       "    <tr>\n",
       "      <th>3</th>\n",
       "      <td>74</td>\n",
       "      <td>35</td>\n",
       "      <td>40</td>\n",
       "      <td>26.491096</td>\n",
       "      <td>80.158363</td>\n",
       "      <td>6.980401</td>\n",
       "      <td>242.864034</td>\n",
       "      <td>rice</td>\n",
       "    </tr>\n",
       "    <tr>\n",
       "      <th>4</th>\n",
       "      <td>78</td>\n",
       "      <td>42</td>\n",
       "      <td>42</td>\n",
       "      <td>20.130175</td>\n",
       "      <td>81.604873</td>\n",
       "      <td>7.628473</td>\n",
       "      <td>262.717340</td>\n",
       "      <td>rice</td>\n",
       "    </tr>\n",
       "  </tbody>\n",
       "</table>\n",
       "</div>"
      ],
      "text/plain": [
       "    N   P   K  temperature   humidity        ph    rainfall label\n",
       "0  90  42  43    20.879744  82.002744  6.502985  202.935536  rice\n",
       "1  85  58  41    21.770462  80.319644  7.038096  226.655537  rice\n",
       "2  60  55  44    23.004459  82.320763  7.840207  263.964248  rice\n",
       "3  74  35  40    26.491096  80.158363  6.980401  242.864034  rice\n",
       "4  78  42  42    20.130175  81.604873  7.628473  262.717340  rice"
      ]
     },
     "execution_count": 339,
     "metadata": {},
     "output_type": "execute_result"
    }
   ],
   "source": [
    "df = pd.read_csv('dataset2.csv')\n",
    "df.head()"
   ]
  },
  {
   "cell_type": "code",
   "execution_count": 340,
   "metadata": {},
   "outputs": [],
   "source": [
    "df[\"label\"] = df[\"label\"].map({\n",
    "    \"rice\": 0,\n",
    "    \"maize\": 1,\n",
    "    \"chickpea\": 2,\n",
    "    \"kidneybeans\": 3,\n",
    "    \"pigeonpeas\": 4,\n",
    "    \"mothbeans\": 5,\n",
    "    \"mungbean\": 6,\n",
    "    \"blackgram\": 7,\n",
    "    \"lentil\": 8,\n",
    "    \"pomegranate\": 9,\n",
    "    \"banana\": 10,\n",
    "    \"mango\": 11,\n",
    "    \"grapes\": 12,\n",
    "    \"watermelon\":13,\n",
    "    \"muskmelon\": 14,\n",
    "    \"apple\": 15,\n",
    "    \"orange\": 16,\n",
    "    \"papaya\": 17,\n",
    "    \"coconut\": 18,\n",
    "    \"cotton\": 19,\n",
    "    \"jute\": 20,\n",
    "    \"coffee\": 21\n",
    "}).astype(int)"
   ]
  },
  {
   "cell_type": "code",
   "execution_count": 350,
   "metadata": {},
   "outputs": [],
   "source": [
    "x_train = df[['N', 'P', 'K', 'temperature', 'humidity', 'ph', 'rainfall']]\n",
    "y_train = df['label']"
   ]
  },
  {
   "cell_type": "code",
   "execution_count": 351,
   "metadata": {},
   "outputs": [],
   "source": [
    "new_y = []\n",
    "for i in y_train:\n",
    "    a = [0,0,0,0,0,0,0,0,0,0,0,0,0,0,0,0,0,0,0,0,0,0]\n",
    "    a[i] = 1\n",
    "    new_y.append(a)   \n",
    "    \n",
    "columns = list(x_train)\n",
    "X = pd.DataFrame.to_numpy(x_train)\n",
    "Y = np.array(new_y)"
   ]
  },
  {
   "cell_type": "code",
   "execution_count": 352,
   "metadata": {},
   "outputs": [
    {
     "name": "stdout",
     "output_type": "stream",
     "text": [
      "No of training (X):(7, 2200)\n",
      "No of training (Y):(22, 2200)\n"
     ]
    }
   ],
   "source": [
    "X_train_flatten = X.reshape(X.shape[0],-1).T\n",
    "Y_train_flatten = Y.reshape(Y.shape[0],-1).T\n",
    "print(\"No of training (X):\"+str(X_train_flatten.shape))\n",
    "print(\"No of training (Y):\"+str(Y_train_flatten.shape))"
   ]
  },
  {
   "cell_type": "code",
   "execution_count": 353,
   "metadata": {},
   "outputs": [],
   "source": [
    "XX_train_flatten = normalize(X_train_flatten)\n",
    "YY_train_flatten = normalize(Y_train_flatten)"
   ]
  },
  {
   "cell_type": "code",
   "execution_count": 375,
   "metadata": {},
   "outputs": [],
   "source": [
    "def create_placeholders(n_x,n_y):\n",
    "    \n",
    "    X = tf.compat.v1.placeholder(shape=[n_x,None],dtype=tf.float32)\n",
    "    Y = tf.compat.v1.placeholder(shape=[n_y,None],dtype=tf.float32)\n",
    "    \n",
    "    return X,Y"
   ]
  },
  {
   "cell_type": "code",
   "execution_count": 376,
   "metadata": {},
   "outputs": [],
   "source": [
    "def initialize_parameters():\n",
    "    \n",
    "    W1 = tf.compat.v1.get_variable(\"W1\",[3,4],initializer = tf.zeros_initializer())#tf.contrib.layers.xavier_initializer())\n",
    "    b1 = tf.compat.v1.get_variable(\"b1\",[3,1],initializer = tf.zeros_initializer())\n",
    "\n",
    "    \n",
    "    parameters = {\"W1\":W1,\n",
    "                  \"b1\":b1}\n",
    "                  \n",
    "    return parameters"
   ]
  },
  {
   "cell_type": "code",
   "execution_count": 377,
   "metadata": {},
   "outputs": [],
   "source": [
    "def forward_propagation(X, parameters):\n",
    "    \n",
    "    W1 = parameters['W1']\n",
    "    b1 = parameters['b1']\n",
    "\n",
    "    Z1 = tf.add(tf.matmul(W1,X),b1)\n",
    "\n",
    "    return Z1"
   ]
  },
  {
   "cell_type": "code",
   "execution_count": 378,
   "metadata": {},
   "outputs": [],
   "source": [
    "def compute_cost(Z1,Y):\n",
    "    \n",
    "    logits = tf.transpose(Z1)\n",
    "    labels = tf.transpose(Y)\n",
    "    \n",
    "    cost = tf.reduce_mean(tf.nn.softmax_cross_entropy_with_logits(logits=logits,labels=labels))\n",
    "    \n",
    "    return cost"
   ]
  },
  {
   "cell_type": "code",
   "execution_count": 379,
   "metadata": {},
   "outputs": [
    {
     "ename": "ValueError",
     "evalue": "Dimensions must be equal, but are 4 and 7 for '{{node MatMul}} = MatMul[T=DT_FLOAT, transpose_a=false, transpose_b=false](MatMul/ReadVariableOp, Placeholder)' with input shapes: [3,4], [7,?].",
     "output_type": "error",
     "traceback": [
      "\u001b[1;31m---------------------------------------------------------------------------\u001b[0m",
      "\u001b[1;31mValueError\u001b[0m                                Traceback (most recent call last)",
      "\u001b[1;32md:\\Final Year Project\\project\\classifier.ipynb Cell 12'\u001b[0m in \u001b[0;36m<cell line: 8>\u001b[1;34m()\u001b[0m\n\u001b[0;32m      <a href='vscode-notebook-cell:/d%3A/Final%20Year%20Project/project/classifier.ipynb#ch0000031?line=5'>6</a>\u001b[0m tf\u001b[39m.\u001b[39mrandom\u001b[39m.\u001b[39mset_seed(\u001b[39m42\u001b[39m)\n\u001b[0;32m      <a href='vscode-notebook-cell:/d%3A/Final%20Year%20Project/project/classifier.ipynb#ch0000031?line=6'>7</a>\u001b[0m p \u001b[39m=\u001b[39m initialize_parameters()            \u001b[39m# initialize parameter \u001b[39;00m\n\u001b[1;32m----> <a href='vscode-notebook-cell:/d%3A/Final%20Year%20Project/project/classifier.ipynb#ch0000031?line=7'>8</a>\u001b[0m Z6 \u001b[39m=\u001b[39m forward_propagation(X,p)          \u001b[39m# forward prop\u001b[39;00m\n\u001b[0;32m      <a href='vscode-notebook-cell:/d%3A/Final%20Year%20Project/project/classifier.ipynb#ch0000031?line=8'>9</a>\u001b[0m y_softmax \u001b[39m=\u001b[39m tf\u001b[39m.\u001b[39mnn\u001b[39m.\u001b[39msoftmax(Z6)          \u001b[39m# softmax function \u001b[39;00m\n\u001b[0;32m     <a href='vscode-notebook-cell:/d%3A/Final%20Year%20Project/project/classifier.ipynb#ch0000031?line=9'>10</a>\u001b[0m cost \u001b[39m=\u001b[39m compute_cost(Z6,Y)\n",
      "\u001b[1;32md:\\Final Year Project\\project\\classifier.ipynb Cell 10'\u001b[0m in \u001b[0;36mforward_propagation\u001b[1;34m(X, parameters)\u001b[0m\n\u001b[0;32m      <a href='vscode-notebook-cell:/d%3A/Final%20Year%20Project/project/classifier.ipynb#ch0000029?line=2'>3</a>\u001b[0m W1 \u001b[39m=\u001b[39m parameters[\u001b[39m'\u001b[39m\u001b[39mW1\u001b[39m\u001b[39m'\u001b[39m]\n\u001b[0;32m      <a href='vscode-notebook-cell:/d%3A/Final%20Year%20Project/project/classifier.ipynb#ch0000029?line=3'>4</a>\u001b[0m b1 \u001b[39m=\u001b[39m parameters[\u001b[39m'\u001b[39m\u001b[39mb1\u001b[39m\u001b[39m'\u001b[39m]\n\u001b[1;32m----> <a href='vscode-notebook-cell:/d%3A/Final%20Year%20Project/project/classifier.ipynb#ch0000029?line=5'>6</a>\u001b[0m Z1 \u001b[39m=\u001b[39m tf\u001b[39m.\u001b[39madd(tf\u001b[39m.\u001b[39;49mmatmul(W1,X),b1)\n\u001b[0;32m      <a href='vscode-notebook-cell:/d%3A/Final%20Year%20Project/project/classifier.ipynb#ch0000029?line=7'>8</a>\u001b[0m \u001b[39mreturn\u001b[39;00m Z1\n",
      "File \u001b[1;32mc:\\Users\\DELL\\AppData\\Local\\Programs\\Python\\Python310\\lib\\site-packages\\tensorflow\\python\\util\\traceback_utils.py:153\u001b[0m, in \u001b[0;36mfilter_traceback.<locals>.error_handler\u001b[1;34m(*args, **kwargs)\u001b[0m\n\u001b[0;32m    <a href='file:///c%3A/Users/DELL/AppData/Local/Programs/Python/Python310/lib/site-packages/tensorflow/python/util/traceback_utils.py?line=150'>151</a>\u001b[0m \u001b[39mexcept\u001b[39;00m \u001b[39mException\u001b[39;00m \u001b[39mas\u001b[39;00m e:\n\u001b[0;32m    <a href='file:///c%3A/Users/DELL/AppData/Local/Programs/Python/Python310/lib/site-packages/tensorflow/python/util/traceback_utils.py?line=151'>152</a>\u001b[0m   filtered_tb \u001b[39m=\u001b[39m _process_traceback_frames(e\u001b[39m.\u001b[39m__traceback__)\n\u001b[1;32m--> <a href='file:///c%3A/Users/DELL/AppData/Local/Programs/Python/Python310/lib/site-packages/tensorflow/python/util/traceback_utils.py?line=152'>153</a>\u001b[0m   \u001b[39mraise\u001b[39;00m e\u001b[39m.\u001b[39mwith_traceback(filtered_tb) \u001b[39mfrom\u001b[39;00m \u001b[39mNone\u001b[39m\n\u001b[0;32m    <a href='file:///c%3A/Users/DELL/AppData/Local/Programs/Python/Python310/lib/site-packages/tensorflow/python/util/traceback_utils.py?line=153'>154</a>\u001b[0m \u001b[39mfinally\u001b[39;00m:\n\u001b[0;32m    <a href='file:///c%3A/Users/DELL/AppData/Local/Programs/Python/Python310/lib/site-packages/tensorflow/python/util/traceback_utils.py?line=154'>155</a>\u001b[0m   \u001b[39mdel\u001b[39;00m filtered_tb\n",
      "File \u001b[1;32mc:\\Users\\DELL\\AppData\\Local\\Programs\\Python\\Python310\\lib\\site-packages\\tensorflow\\python\\framework\\ops.py:1963\u001b[0m, in \u001b[0;36m_create_c_op\u001b[1;34m(graph, node_def, inputs, control_inputs, op_def)\u001b[0m\n\u001b[0;32m   <a href='file:///c%3A/Users/DELL/AppData/Local/Programs/Python/Python310/lib/site-packages/tensorflow/python/framework/ops.py?line=1959'>1960</a>\u001b[0m   c_op \u001b[39m=\u001b[39m pywrap_tf_session\u001b[39m.\u001b[39mTF_FinishOperation(op_desc)\n\u001b[0;32m   <a href='file:///c%3A/Users/DELL/AppData/Local/Programs/Python/Python310/lib/site-packages/tensorflow/python/framework/ops.py?line=1960'>1961</a>\u001b[0m \u001b[39mexcept\u001b[39;00m errors\u001b[39m.\u001b[39mInvalidArgumentError \u001b[39mas\u001b[39;00m e:\n\u001b[0;32m   <a href='file:///c%3A/Users/DELL/AppData/Local/Programs/Python/Python310/lib/site-packages/tensorflow/python/framework/ops.py?line=1961'>1962</a>\u001b[0m   \u001b[39m# Convert to ValueError for backwards compatibility.\u001b[39;00m\n\u001b[1;32m-> <a href='file:///c%3A/Users/DELL/AppData/Local/Programs/Python/Python310/lib/site-packages/tensorflow/python/framework/ops.py?line=1962'>1963</a>\u001b[0m   \u001b[39mraise\u001b[39;00m \u001b[39mValueError\u001b[39;00m(e\u001b[39m.\u001b[39mmessage)\n\u001b[0;32m   <a href='file:///c%3A/Users/DELL/AppData/Local/Programs/Python/Python310/lib/site-packages/tensorflow/python/framework/ops.py?line=1964'>1965</a>\u001b[0m \u001b[39mreturn\u001b[39;00m c_op\n",
      "\u001b[1;31mValueError\u001b[0m: Dimensions must be equal, but are 4 and 7 for '{{node MatMul}} = MatMul[T=DT_FLOAT, transpose_a=false, transpose_b=false](MatMul/ReadVariableOp, Placeholder)' with input shapes: [3,4], [7,?]."
     ]
    }
   ],
   "source": [
    "tf.compat.v1.disable_eager_execution()\n",
    "tf.compat.v1.reset_default_graph()\n",
    "(n_x, m) = X_train_flatten.shape       # shape of X                    \n",
    "n_y = Y_train_flatten.shape[0]         # shape of Y\n",
    "X, Y = create_placeholders(n_x,n_y)    # creating placeholder \n",
    "tf.random.set_seed(42)\n",
    "p = initialize_parameters()            # initialize parameter \n",
    "Z6 = forward_propagation(X,p)          # forward prop\n",
    "y_softmax = tf.nn.softmax(Z6)          # softmax function \n",
    "cost = compute_cost(Z6,Y)              # cost function "
   ]
  },
  {
   "cell_type": "code",
   "execution_count": null,
   "metadata": {},
   "outputs": [
    {
     "name": "stdout",
     "output_type": "stream",
     "text": [
      "Tensor(\"Mean:0\", shape=(), dtype=float32)\n"
     ]
    }
   ],
   "source": [
    "print(cost)"
   ]
  }
 ],
 "metadata": {
  "interpreter": {
   "hash": "fbc768028c3e6ead51d9a200ddcb2ec858ae62844dcd1994729a8279be9b48f2"
  },
  "kernelspec": {
   "display_name": "Python 3.10.4 64-bit",
   "language": "python",
   "name": "python3"
  },
  "language_info": {
   "codemirror_mode": {
    "name": "ipython",
    "version": 3
   },
   "file_extension": ".py",
   "mimetype": "text/x-python",
   "name": "python",
   "nbconvert_exporter": "python",
   "pygments_lexer": "ipython3",
   "version": "3.10.4"
  },
  "orig_nbformat": 4
 },
 "nbformat": 4,
 "nbformat_minor": 2
}
